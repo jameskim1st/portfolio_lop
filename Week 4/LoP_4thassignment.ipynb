{
 "cells": [
  {
   "cell_type": "code",
   "execution_count": 40,
   "metadata": {
    "colab": {},
    "colab_type": "code",
    "id": "OfYlW7hVRwdO"
   },
   "outputs": [],
   "source": [
    "# 분석에 필요한 패키지 불러오기\n",
    "import os\n",
    "import numpy as np\n",
    "import pandas as pd\n",
    "from sklearn.linear_model import LogisticRegression\n",
    "from sklearn.model_selection import train_test_split\n",
    "from sklearn import metrics\n",
    "from sklearn.metrics import confusion_matrix\n",
    "from sklearn.metrics import accuracy_score, roc_auc_score, roc_curve\n",
    "import statsmodels.api as sm\n",
    "import matplotlib.pyplot as plt\n",
    "import itertools\n",
    "import time"
   ]
  },
  {
   "cell_type": "markdown",
   "metadata": {},
   "source": [
    "### bank_termdeposit.csv\n",
    "- 해당 파일은 Kaggle에서 구한 자료입니다.\n",
    "- 고객이 정기예금을 가입하기 위해 어느 변수가 주요하게 작용하는지를 알아보는 data set 입니다.  "
   ]
  },
  {
   "cell_type": "markdown",
   "metadata": {},
   "source": [
    "## 1. Data 설명\n",
    "#### 고객 Data\n",
    "- 1. age (numeric)\n",
    "- 2. job : type of job (categorical: \"admin.\", \"unknown\", \"unemployed\", \"management\", \"housemaid\", \"entrepreneur\", \"student\", \"blue-collar\", \"self-employed\", \"retired\", \"technician\", \"services\")\n",
    "- 3. marital : marital status (categorical: \"married\", \"divorced\", \"single\"; note: \"divorced\" means divorced or widowed)\n",
    "- 4. education (categorical: \"unknown\", \"secondary\", \"primary\", \"tertiary\")\n",
    "- 5. default: has credit in default? (binary: \"yes\", \"no\")\n",
    "- 6. balance: average yearly balance (입출금 계좌), in euros (numeric)\n",
    "- 7. housing: has housing loan? (binary: \"yes\", \"no\")\n",
    "- 8. loan: has personal loan? (binary: \"yes\", \"no\")\n",
    "\n",
    "#### 직전 campaign 을 통한 고객과의 접점 관련 정보\n",
    "- 9. contact: contact communication type (categorical: \"unknown\", \"telephone\", \"cellular\")\n",
    "- 10. day: last contact day of the month (numeric)\n",
    "- 11. month: last contact month of year (categorical: \"jan\", \"feb\", \"mar\", ..., \"nov\", \"dec\")\n",
    "- 12. duration: last contact duration, in seconds (numeric)\n",
    "\n",
    "#### 기타 속성\n",
    "- 13. campaign: number of contacts performed during this campaign and for this client (numeric, includes last contact)\n",
    "- 14. pdays: number of days that passed by after the client was last contacted from a previous campaign (numeric, -1 means client was not previously contacted)\n",
    "- 15. previous: number of contacts performed before this campaign and for this client (numeric)\n",
    "- 16. poutcome: outcome of the previous marketing campaign (categorical: \"unknown\",\"other\",\"failure\",\"success\")\n",
    "\n",
    "#### 종속 변수 (목표 target):\n",
    "- 17. subscribed - has the client subscribed a term deposit? (binary: \"yes\",\"no\")"
   ]
  },
  {
   "cell_type": "code",
   "execution_count": 41,
   "metadata": {
    "colab": {},
    "colab_type": "code",
    "id": "tu7N0-zFRwdS",
    "outputId": "6214c5c3-e0e1-4739-8a2e-3fd6faa45d44",
    "scrolled": false
   },
   "outputs": [
    {
     "name": "stdout",
     "output_type": "stream",
     "text": [
      "(31647, 18)\n"
     ]
    },
    {
     "data": {
      "text/html": [
       "<div>\n",
       "<style scoped>\n",
       "    .dataframe tbody tr th:only-of-type {\n",
       "        vertical-align: middle;\n",
       "    }\n",
       "\n",
       "    .dataframe tbody tr th {\n",
       "        vertical-align: top;\n",
       "    }\n",
       "\n",
       "    .dataframe thead th {\n",
       "        text-align: right;\n",
       "    }\n",
       "</style>\n",
       "<table border=\"1\" class=\"dataframe\">\n",
       "  <thead>\n",
       "    <tr style=\"text-align: right;\">\n",
       "      <th></th>\n",
       "      <th>ID</th>\n",
       "      <th>age</th>\n",
       "      <th>job</th>\n",
       "      <th>marital</th>\n",
       "      <th>education</th>\n",
       "      <th>default</th>\n",
       "      <th>balance</th>\n",
       "      <th>housing</th>\n",
       "      <th>loan</th>\n",
       "      <th>contact</th>\n",
       "      <th>day</th>\n",
       "      <th>month</th>\n",
       "      <th>duration</th>\n",
       "      <th>campaign</th>\n",
       "      <th>pdays</th>\n",
       "      <th>previous</th>\n",
       "      <th>poutcome</th>\n",
       "      <th>subscribed</th>\n",
       "    </tr>\n",
       "  </thead>\n",
       "  <tbody>\n",
       "    <tr>\n",
       "      <th>0</th>\n",
       "      <td>26110</td>\n",
       "      <td>56</td>\n",
       "      <td>admin.</td>\n",
       "      <td>married</td>\n",
       "      <td>unknown</td>\n",
       "      <td>no</td>\n",
       "      <td>1933</td>\n",
       "      <td>no</td>\n",
       "      <td>no</td>\n",
       "      <td>telephone</td>\n",
       "      <td>19</td>\n",
       "      <td>nov</td>\n",
       "      <td>44</td>\n",
       "      <td>2</td>\n",
       "      <td>-1</td>\n",
       "      <td>0</td>\n",
       "      <td>unknown</td>\n",
       "      <td>no</td>\n",
       "    </tr>\n",
       "    <tr>\n",
       "      <th>1</th>\n",
       "      <td>40576</td>\n",
       "      <td>31</td>\n",
       "      <td>unknown</td>\n",
       "      <td>married</td>\n",
       "      <td>secondary</td>\n",
       "      <td>no</td>\n",
       "      <td>3</td>\n",
       "      <td>no</td>\n",
       "      <td>no</td>\n",
       "      <td>cellular</td>\n",
       "      <td>20</td>\n",
       "      <td>jul</td>\n",
       "      <td>91</td>\n",
       "      <td>2</td>\n",
       "      <td>-1</td>\n",
       "      <td>0</td>\n",
       "      <td>unknown</td>\n",
       "      <td>no</td>\n",
       "    </tr>\n",
       "    <tr>\n",
       "      <th>2</th>\n",
       "      <td>15320</td>\n",
       "      <td>27</td>\n",
       "      <td>services</td>\n",
       "      <td>married</td>\n",
       "      <td>secondary</td>\n",
       "      <td>no</td>\n",
       "      <td>891</td>\n",
       "      <td>yes</td>\n",
       "      <td>no</td>\n",
       "      <td>cellular</td>\n",
       "      <td>18</td>\n",
       "      <td>jul</td>\n",
       "      <td>240</td>\n",
       "      <td>1</td>\n",
       "      <td>-1</td>\n",
       "      <td>0</td>\n",
       "      <td>unknown</td>\n",
       "      <td>no</td>\n",
       "    </tr>\n",
       "    <tr>\n",
       "      <th>3</th>\n",
       "      <td>43962</td>\n",
       "      <td>57</td>\n",
       "      <td>management</td>\n",
       "      <td>divorced</td>\n",
       "      <td>tertiary</td>\n",
       "      <td>no</td>\n",
       "      <td>3287</td>\n",
       "      <td>no</td>\n",
       "      <td>no</td>\n",
       "      <td>cellular</td>\n",
       "      <td>22</td>\n",
       "      <td>jun</td>\n",
       "      <td>867</td>\n",
       "      <td>1</td>\n",
       "      <td>84</td>\n",
       "      <td>3</td>\n",
       "      <td>success</td>\n",
       "      <td>yes</td>\n",
       "    </tr>\n",
       "    <tr>\n",
       "      <th>4</th>\n",
       "      <td>29842</td>\n",
       "      <td>31</td>\n",
       "      <td>technician</td>\n",
       "      <td>married</td>\n",
       "      <td>secondary</td>\n",
       "      <td>no</td>\n",
       "      <td>119</td>\n",
       "      <td>yes</td>\n",
       "      <td>no</td>\n",
       "      <td>cellular</td>\n",
       "      <td>4</td>\n",
       "      <td>feb</td>\n",
       "      <td>380</td>\n",
       "      <td>1</td>\n",
       "      <td>-1</td>\n",
       "      <td>0</td>\n",
       "      <td>unknown</td>\n",
       "      <td>no</td>\n",
       "    </tr>\n",
       "  </tbody>\n",
       "</table>\n",
       "</div>"
      ],
      "text/plain": [
       "      ID  age         job   marital  education default  balance housing loan  \\\n",
       "0  26110   56      admin.   married    unknown      no     1933      no   no   \n",
       "1  40576   31     unknown   married  secondary      no        3      no   no   \n",
       "2  15320   27    services   married  secondary      no      891     yes   no   \n",
       "3  43962   57  management  divorced   tertiary      no     3287      no   no   \n",
       "4  29842   31  technician   married  secondary      no      119     yes   no   \n",
       "\n",
       "     contact  day month  duration  campaign  pdays  previous poutcome  \\\n",
       "0  telephone   19   nov        44         2     -1         0  unknown   \n",
       "1   cellular   20   jul        91         2     -1         0  unknown   \n",
       "2   cellular   18   jul       240         1     -1         0  unknown   \n",
       "3   cellular   22   jun       867         1     84         3  success   \n",
       "4   cellular    4   feb       380         1     -1         0  unknown   \n",
       "\n",
       "  subscribed  \n",
       "0         no  \n",
       "1         no  \n",
       "2         no  \n",
       "3        yes  \n",
       "4         no  "
      ]
     },
     "execution_count": 41,
     "metadata": {},
     "output_type": "execute_result"
    }
   ],
   "source": [
    "bank = pd.read_csv(\"data/bank_termdeposit.csv\")\n",
    "\n",
    "# bank_termdiposit 파일에 할당된 데이터의 행렬 사이즈를 출력\n",
    "print(bank.shape)\n",
    "\n",
    "# bank_termdeposit 데이터의 상위 5 row\n",
    "bank.head()"
   ]
  },
  {
   "cell_type": "code",
   "execution_count": 42,
   "metadata": {},
   "outputs": [
    {
     "name": "stdout",
     "output_type": "stream",
     "text": [
      "31647 18\n"
     ]
    }
   ],
   "source": [
    "# 데이터 수와 변수의 수 확인하기\n",
    "nData = bank.shape[0] # 데이터 수\n",
    "nVar = bank.shape[1] # 변수의 수\n",
    "print(nData, nVar)"
   ]
  },
  {
   "cell_type": "code",
   "execution_count": 43,
   "metadata": {},
   "outputs": [
    {
     "data": {
      "text/html": [
       "<div>\n",
       "<style scoped>\n",
       "    .dataframe tbody tr th:only-of-type {\n",
       "        vertical-align: middle;\n",
       "    }\n",
       "\n",
       "    .dataframe tbody tr th {\n",
       "        vertical-align: top;\n",
       "    }\n",
       "\n",
       "    .dataframe thead th {\n",
       "        text-align: right;\n",
       "    }\n",
       "</style>\n",
       "<table border=\"1\" class=\"dataframe\">\n",
       "  <thead>\n",
       "    <tr style=\"text-align: right;\">\n",
       "      <th></th>\n",
       "      <th>ID</th>\n",
       "      <th>age</th>\n",
       "      <th>balance</th>\n",
       "      <th>day</th>\n",
       "      <th>duration</th>\n",
       "      <th>campaign</th>\n",
       "      <th>pdays</th>\n",
       "      <th>previous</th>\n",
       "    </tr>\n",
       "  </thead>\n",
       "  <tbody>\n",
       "    <tr>\n",
       "      <th>count</th>\n",
       "      <td>31647.000000</td>\n",
       "      <td>31647.000000</td>\n",
       "      <td>31647.000000</td>\n",
       "      <td>31647.000000</td>\n",
       "      <td>31647.000000</td>\n",
       "      <td>31647.000000</td>\n",
       "      <td>31647.000000</td>\n",
       "      <td>31647.000000</td>\n",
       "    </tr>\n",
       "    <tr>\n",
       "      <th>mean</th>\n",
       "      <td>22563.972162</td>\n",
       "      <td>40.957247</td>\n",
       "      <td>1363.890258</td>\n",
       "      <td>15.835466</td>\n",
       "      <td>258.113534</td>\n",
       "      <td>2.765697</td>\n",
       "      <td>39.576042</td>\n",
       "      <td>0.574272</td>\n",
       "    </tr>\n",
       "    <tr>\n",
       "      <th>std</th>\n",
       "      <td>13075.936990</td>\n",
       "      <td>10.625134</td>\n",
       "      <td>3028.304293</td>\n",
       "      <td>8.337097</td>\n",
       "      <td>257.118973</td>\n",
       "      <td>3.113830</td>\n",
       "      <td>99.317592</td>\n",
       "      <td>2.422529</td>\n",
       "    </tr>\n",
       "    <tr>\n",
       "      <th>min</th>\n",
       "      <td>2.000000</td>\n",
       "      <td>18.000000</td>\n",
       "      <td>-8019.000000</td>\n",
       "      <td>1.000000</td>\n",
       "      <td>0.000000</td>\n",
       "      <td>1.000000</td>\n",
       "      <td>-1.000000</td>\n",
       "      <td>0.000000</td>\n",
       "    </tr>\n",
       "    <tr>\n",
       "      <th>25%</th>\n",
       "      <td>11218.000000</td>\n",
       "      <td>33.000000</td>\n",
       "      <td>73.000000</td>\n",
       "      <td>8.000000</td>\n",
       "      <td>104.000000</td>\n",
       "      <td>1.000000</td>\n",
       "      <td>-1.000000</td>\n",
       "      <td>0.000000</td>\n",
       "    </tr>\n",
       "    <tr>\n",
       "      <th>50%</th>\n",
       "      <td>22519.000000</td>\n",
       "      <td>39.000000</td>\n",
       "      <td>450.000000</td>\n",
       "      <td>16.000000</td>\n",
       "      <td>180.000000</td>\n",
       "      <td>2.000000</td>\n",
       "      <td>-1.000000</td>\n",
       "      <td>0.000000</td>\n",
       "    </tr>\n",
       "    <tr>\n",
       "      <th>75%</th>\n",
       "      <td>33879.500000</td>\n",
       "      <td>48.000000</td>\n",
       "      <td>1431.000000</td>\n",
       "      <td>21.000000</td>\n",
       "      <td>318.500000</td>\n",
       "      <td>3.000000</td>\n",
       "      <td>-1.000000</td>\n",
       "      <td>0.000000</td>\n",
       "    </tr>\n",
       "    <tr>\n",
       "      <th>max</th>\n",
       "      <td>45211.000000</td>\n",
       "      <td>95.000000</td>\n",
       "      <td>102127.000000</td>\n",
       "      <td>31.000000</td>\n",
       "      <td>4918.000000</td>\n",
       "      <td>63.000000</td>\n",
       "      <td>871.000000</td>\n",
       "      <td>275.000000</td>\n",
       "    </tr>\n",
       "  </tbody>\n",
       "</table>\n",
       "</div>"
      ],
      "text/plain": [
       "                 ID           age        balance           day      duration  \\\n",
       "count  31647.000000  31647.000000   31647.000000  31647.000000  31647.000000   \n",
       "mean   22563.972162     40.957247    1363.890258     15.835466    258.113534   \n",
       "std    13075.936990     10.625134    3028.304293      8.337097    257.118973   \n",
       "min        2.000000     18.000000   -8019.000000      1.000000      0.000000   \n",
       "25%    11218.000000     33.000000      73.000000      8.000000    104.000000   \n",
       "50%    22519.000000     39.000000     450.000000     16.000000    180.000000   \n",
       "75%    33879.500000     48.000000    1431.000000     21.000000    318.500000   \n",
       "max    45211.000000     95.000000  102127.000000     31.000000   4918.000000   \n",
       "\n",
       "           campaign         pdays      previous  \n",
       "count  31647.000000  31647.000000  31647.000000  \n",
       "mean       2.765697     39.576042      0.574272  \n",
       "std        3.113830     99.317592      2.422529  \n",
       "min        1.000000     -1.000000      0.000000  \n",
       "25%        1.000000     -1.000000      0.000000  \n",
       "50%        2.000000     -1.000000      0.000000  \n",
       "75%        3.000000     -1.000000      0.000000  \n",
       "max       63.000000    871.000000    275.000000  "
      ]
     },
     "execution_count": 43,
     "metadata": {},
     "output_type": "execute_result"
    }
   ],
   "source": [
    "# 주요 통계지표 확인\n",
    "bank.describe()"
   ]
  },
  {
   "cell_type": "code",
   "execution_count": 44,
   "metadata": {},
   "outputs": [
    {
     "data": {
      "text/plain": [
       "Index(['ID', 'age', 'balance', 'day', 'duration', 'campaign', 'pdays',\n",
       "       'previous'],\n",
       "      dtype='object')"
      ]
     },
     "execution_count": 44,
     "metadata": {},
     "output_type": "execute_result"
    }
   ],
   "source": [
    "# 위에 출력된 변수들은 numeric 값을 담은 변수로 DataFrame에 활용하기 위해 따로 columns 리스트를 저장.\n",
    "bank_numeric = bank.describe()\n",
    "bank_numeric.columns"
   ]
  },
  {
   "cell_type": "markdown",
   "metadata": {},
   "source": [
    "## 2. Data set 에 대한 가설"
   ]
  },
  {
   "cell_type": "markdown",
   "metadata": {},
   "source": [
    "#### numeric 값을 포함한 독립변수 (연속형 변수)들에 대한 해석"
   ]
  },
  {
   "cell_type": "code",
   "execution_count": 45,
   "metadata": {},
   "outputs": [
    {
     "data": {
      "text/html": [
       "<div>\n",
       "<style scoped>\n",
       "    .dataframe tbody tr th:only-of-type {\n",
       "        vertical-align: middle;\n",
       "    }\n",
       "\n",
       "    .dataframe tbody tr th {\n",
       "        vertical-align: top;\n",
       "    }\n",
       "\n",
       "    .dataframe thead th {\n",
       "        text-align: right;\n",
       "    }\n",
       "</style>\n",
       "<table border=\"1\" class=\"dataframe\">\n",
       "  <thead>\n",
       "    <tr style=\"text-align: right;\">\n",
       "      <th></th>\n",
       "      <th>age</th>\n",
       "      <th>balance</th>\n",
       "      <th>campaign</th>\n",
       "      <th>day</th>\n",
       "      <th>duration</th>\n",
       "      <th>pdays</th>\n",
       "      <th>previous</th>\n",
       "    </tr>\n",
       "    <tr>\n",
       "      <th>subscribed</th>\n",
       "      <th></th>\n",
       "      <th></th>\n",
       "      <th></th>\n",
       "      <th></th>\n",
       "      <th></th>\n",
       "      <th></th>\n",
       "      <th></th>\n",
       "    </tr>\n",
       "  </thead>\n",
       "  <tbody>\n",
       "    <tr>\n",
       "      <th>no</th>\n",
       "      <td>40.862165</td>\n",
       "      <td>1307.779822</td>\n",
       "      <td>2.845876</td>\n",
       "      <td>15.925462</td>\n",
       "      <td>221.559108</td>\n",
       "      <td>35.653802</td>\n",
       "      <td>0.496456</td>\n",
       "    </tr>\n",
       "    <tr>\n",
       "      <th>yes</th>\n",
       "      <td>41.672140</td>\n",
       "      <td>1785.768237</td>\n",
       "      <td>2.162853</td>\n",
       "      <td>15.158816</td>\n",
       "      <td>532.955585</td>\n",
       "      <td>69.066218</td>\n",
       "      <td>1.159354</td>\n",
       "    </tr>\n",
       "  </tbody>\n",
       "</table>\n",
       "</div>"
      ],
      "text/plain": [
       "                  age      balance  campaign        day    duration  \\\n",
       "subscribed                                                            \n",
       "no          40.862165  1307.779822  2.845876  15.925462  221.559108   \n",
       "yes         41.672140  1785.768237  2.162853  15.158816  532.955585   \n",
       "\n",
       "                pdays  previous  \n",
       "subscribed                       \n",
       "no          35.653802  0.496456  \n",
       "yes         69.066218  1.159354  "
      ]
     },
     "execution_count": 45,
     "metadata": {},
     "output_type": "execute_result"
    }
   ],
   "source": [
    "# 종속변수 (subscribed 변수)의 값에 따라 각 독립변수 중 numeric 값을 포함한 변수들의 평균값 비교\n",
    "# ID는 통계를 내는 것이 무의미하므로 제외함.\n",
    "\n",
    "pd.pivot_table(bank, index = 'subscribed', values = bank_numeric.columns.drop(\"ID\"))"
   ]
  },
  {
   "cell_type": "markdown",
   "metadata": {},
   "source": [
    "#### 위의 변수들에 대한 해석\n",
    "**아래의 해석은 단순히 위의 표의 결과를 토대로 한 해석입니다. 선형회귀분석 등의 추가 검증은 추후 진행 예정이며, 추가 검증 결과 다르게 해석 될 수도 있습니다**\n",
    "- age : 나이는 정기예금 가입 여부에 따라 큰 차이를 보이지 않으므로 큰 영향이 없는 것으로 보입니다.\n",
    "- balance : 정기예금을 가입 안한 이들의 평균 잔액이 가입한 고객들의 잔액보다 현저히 작은 것을 확인할 수 있으므로 정기예금 가입 여부와 상관관계가 있는 것으로 보임. 즉, 여유 잔액이 많은 고객일 수록 정기예금을 가입하는 경향이 높다라고 해석해 볼 수도 있습니다.\n",
    "- campaign : 금번 캠페인 기간 동안 고객과 접촉한 수를 나타내며, 오히려 정기예금을 가입하지 않은 고객들이 평균적으로 캠페인 기간 동안 은행과의 접촉 수가 많은 것으로 확인됨. 이를 귀납적으로 추론해보자면, 정기예금에 가입하지 않으려는 경향이 보였기에 은행에서 캠페인 기간동안 더 많은 횟수의 접촉을 시도했다고도 볼 수 있을 것입니다.\n",
    "- day : 마지막 접촉한 일자를 나타내는 지표로 평균적으로 큰 차이를 보이지 않는 것으로 보아 큰 영향이 없는 것으로 보입니다.\n",
    "- duration : 마지막으로 고객과 접촉 당시 얼마나 오래 접촉하였는지(단위 : 초)를 나타내는 지표로, 정기예금에 가입한 고객들이 평균적으로 더 긴 시간동안 고객과 접촉한 것으로 확인됩니다. 이는 접촉하는 당시 고객이 캠페인에 긍정적으로 반응하였기에 더 긴 시간 접촉하였다고도 볼 수 있을 것 같습니다.\n",
    "- pdays : 고객과 접촉한 마지막 일자로부터 경과된 시간(단위 : 일)을 나타내는 지표로 정기예금에 가입하지 않은 고객들이 평균적으로 비교적 최근에 접촉이 된 것으로 확인됩니다. 이는 campain 변수와 유사한 논리인 정기예금에 가입하지 않으려는 경향을 보였기에 은행에서 비교적 최근까지도 접촉을 시도한 것으로 해석해볼 수 있습니다.\n",
    "- previous : 금번이 아닌 이전 campaign 기간 동안 고객과의 접촉한 횟수를 나타냅니다. 평균적으로 정기예금에 가입한 고객들이 가입하지 않은 고객들보다 은행과 많은 접촉이 있는 것으로 확인됩니다. 이 부분이 개인적으로 조금 흥미로웠는데, 이는 앞서 살펴본 campaign 변수에서 살펴본 해석과 같이 연결지어볼 필요가 있을 것 같습니다. 추가적인 검증이 필요하지만 제가 우선 위의 pivot_table 만으로 귀납추론을 하면 다음과 같습니다. 정기예금에 가입하지 않으려는 고객에 은행은 평균적으로 보다 더 많은 접촉을 시도합니다. 이에 가입을 할 수도, 안 할 수도 있으며 결국 가입을 안 한 고객들은 평균적으로 높은 접촉 횟수를 나타내게 됩니다. 그러나 이 previous 의 결과를 살펴보면, 직전 campaign에서 접촉을 많이 했던 고객들은 결국 다음 campaign 을 거치면서 가입하는 경향을 보이는 것 같습니다. 즉, campaign의 접촉 횟수는 비록 처음에는 많더라도 고객유치에 실패할 수 있으나, 결국 이후의 campaign 에는 고객을 유치하는데 성공하게 만드는 요인이 되는 것 같습니다. "
   ]
  },
  {
   "cell_type": "markdown",
   "metadata": {},
   "source": [
    "#### 이산형 (독립)변수들에 대한 해석\n",
    "- 'job', 'marital', 'education', 'contact'"
   ]
  },
  {
   "cell_type": "markdown",
   "metadata": {},
   "source": [
    "**```\"job\"```으로 우선 pivot_table 생성**"
   ]
  },
  {
   "cell_type": "code",
   "execution_count": 46,
   "metadata": {},
   "outputs": [],
   "source": [
    "# 우선, 정기예금을 가입한 사람들만 추출\n",
    "bank_yes = bank[bank[\"subscribed\"] == 'yes']"
   ]
  },
  {
   "cell_type": "code",
   "execution_count": 47,
   "metadata": {},
   "outputs": [
    {
     "data": {
      "text/html": [
       "<div>\n",
       "<style scoped>\n",
       "    .dataframe tbody tr th:only-of-type {\n",
       "        vertical-align: middle;\n",
       "    }\n",
       "\n",
       "    .dataframe tbody tr th {\n",
       "        vertical-align: top;\n",
       "    }\n",
       "\n",
       "    .dataframe thead th {\n",
       "        text-align: right;\n",
       "    }\n",
       "</style>\n",
       "<table border=\"1\" class=\"dataframe\">\n",
       "  <thead>\n",
       "    <tr style=\"text-align: right;\">\n",
       "      <th></th>\n",
       "      <th>ID</th>\n",
       "    </tr>\n",
       "    <tr>\n",
       "      <th>job</th>\n",
       "      <th></th>\n",
       "    </tr>\n",
       "  </thead>\n",
       "  <tbody>\n",
       "    <tr>\n",
       "      <th>admin.</th>\n",
       "      <td>3631</td>\n",
       "    </tr>\n",
       "    <tr>\n",
       "      <th>blue-collar</th>\n",
       "      <td>6842</td>\n",
       "    </tr>\n",
       "    <tr>\n",
       "      <th>entrepreneur</th>\n",
       "      <td>1008</td>\n",
       "    </tr>\n",
       "    <tr>\n",
       "      <th>housemaid</th>\n",
       "      <td>874</td>\n",
       "    </tr>\n",
       "    <tr>\n",
       "      <th>management</th>\n",
       "      <td>6639</td>\n",
       "    </tr>\n",
       "  </tbody>\n",
       "</table>\n",
       "</div>"
      ],
      "text/plain": [
       "                ID\n",
       "job               \n",
       "admin.        3631\n",
       "blue-collar   6842\n",
       "entrepreneur  1008\n",
       "housemaid      874\n",
       "management    6639"
      ]
     },
     "execution_count": 47,
     "metadata": {},
     "output_type": "execute_result"
    }
   ],
   "source": [
    "# 직업별 pivot_table 생성\n",
    "bank_job = pd.pivot_table(bank, index = 'job', values = 'ID', aggfunc = 'count')\n",
    "bank_job.head()"
   ]
  },
  {
   "cell_type": "code",
   "execution_count": 48,
   "metadata": {},
   "outputs": [
    {
     "data": {
      "text/html": [
       "<div>\n",
       "<style scoped>\n",
       "    .dataframe tbody tr th:only-of-type {\n",
       "        vertical-align: middle;\n",
       "    }\n",
       "\n",
       "    .dataframe tbody tr th {\n",
       "        vertical-align: top;\n",
       "    }\n",
       "\n",
       "    .dataframe thead th {\n",
       "        text-align: right;\n",
       "    }\n",
       "</style>\n",
       "<table border=\"1\" class=\"dataframe\">\n",
       "  <thead>\n",
       "    <tr style=\"text-align: right;\">\n",
       "      <th></th>\n",
       "      <th>ID</th>\n",
       "    </tr>\n",
       "    <tr>\n",
       "      <th>job</th>\n",
       "      <th></th>\n",
       "    </tr>\n",
       "  </thead>\n",
       "  <tbody>\n",
       "    <tr>\n",
       "      <th>admin.</th>\n",
       "      <td>452</td>\n",
       "    </tr>\n",
       "    <tr>\n",
       "      <th>blue-collar</th>\n",
       "      <td>489</td>\n",
       "    </tr>\n",
       "    <tr>\n",
       "      <th>entrepreneur</th>\n",
       "      <td>85</td>\n",
       "    </tr>\n",
       "    <tr>\n",
       "      <th>housemaid</th>\n",
       "      <td>79</td>\n",
       "    </tr>\n",
       "    <tr>\n",
       "      <th>management</th>\n",
       "      <td>923</td>\n",
       "    </tr>\n",
       "  </tbody>\n",
       "</table>\n",
       "</div>"
      ],
      "text/plain": [
       "               ID\n",
       "job              \n",
       "admin.        452\n",
       "blue-collar   489\n",
       "entrepreneur   85\n",
       "housemaid      79\n",
       "management    923"
      ]
     },
     "execution_count": 48,
     "metadata": {},
     "output_type": "execute_result"
    }
   ],
   "source": [
    "# 정기에금 가입한 사람들 중 직업별 pivot_table 생성\n",
    "bank_yes_job = pd.pivot_table(bank_yes, index = 'job', values = 'ID', aggfunc = 'count')\n",
    "bank_yes_job.head()"
   ]
  },
  {
   "cell_type": "code",
   "execution_count": 49,
   "metadata": {},
   "outputs": [
    {
     "data": {
      "text/html": [
       "<div>\n",
       "<style scoped>\n",
       "    .dataframe tbody tr th:only-of-type {\n",
       "        vertical-align: middle;\n",
       "    }\n",
       "\n",
       "    .dataframe tbody tr th {\n",
       "        vertical-align: top;\n",
       "    }\n",
       "\n",
       "    .dataframe thead th {\n",
       "        text-align: right;\n",
       "    }\n",
       "</style>\n",
       "<table border=\"1\" class=\"dataframe\">\n",
       "  <thead>\n",
       "    <tr style=\"text-align: right;\">\n",
       "      <th></th>\n",
       "      <th>subscribed (%)</th>\n",
       "    </tr>\n",
       "    <tr>\n",
       "      <th>job</th>\n",
       "      <th></th>\n",
       "    </tr>\n",
       "  </thead>\n",
       "  <tbody>\n",
       "    <tr>\n",
       "      <th>admin.</th>\n",
       "      <td>12.0</td>\n",
       "    </tr>\n",
       "    <tr>\n",
       "      <th>blue-collar</th>\n",
       "      <td>7.0</td>\n",
       "    </tr>\n",
       "    <tr>\n",
       "      <th>entrepreneur</th>\n",
       "      <td>8.0</td>\n",
       "    </tr>\n",
       "    <tr>\n",
       "      <th>housemaid</th>\n",
       "      <td>9.0</td>\n",
       "    </tr>\n",
       "    <tr>\n",
       "      <th>management</th>\n",
       "      <td>14.0</td>\n",
       "    </tr>\n",
       "    <tr>\n",
       "      <th>retired</th>\n",
       "      <td>23.0</td>\n",
       "    </tr>\n",
       "    <tr>\n",
       "      <th>self-employed</th>\n",
       "      <td>12.0</td>\n",
       "    </tr>\n",
       "    <tr>\n",
       "      <th>services</th>\n",
       "      <td>9.0</td>\n",
       "    </tr>\n",
       "    <tr>\n",
       "      <th>student</th>\n",
       "      <td>29.0</td>\n",
       "    </tr>\n",
       "    <tr>\n",
       "      <th>technician</th>\n",
       "      <td>11.0</td>\n",
       "    </tr>\n",
       "    <tr>\n",
       "      <th>unemployed</th>\n",
       "      <td>14.0</td>\n",
       "    </tr>\n",
       "    <tr>\n",
       "      <th>unknown</th>\n",
       "      <td>13.0</td>\n",
       "    </tr>\n",
       "  </tbody>\n",
       "</table>\n",
       "</div>"
      ],
      "text/plain": [
       "               subscribed (%)\n",
       "job                          \n",
       "admin.                   12.0\n",
       "blue-collar               7.0\n",
       "entrepreneur              8.0\n",
       "housemaid                 9.0\n",
       "management               14.0\n",
       "retired                  23.0\n",
       "self-employed            12.0\n",
       "services                  9.0\n",
       "student                  29.0\n",
       "technician               11.0\n",
       "unemployed               14.0\n",
       "unknown                  13.0"
      ]
     },
     "execution_count": 49,
     "metadata": {},
     "output_type": "execute_result"
    }
   ],
   "source": [
    "bank_yes_job = pd.DataFrame(round(bank_yes_job[\"ID\"] / bank_job[\"ID\"]  * 100))\n",
    "bank_yes_job.rename(columns = {\"ID\" : \"subscribed (%)\"}, inplace = True)\n",
    "bank_yes_job"
   ]
  },
  {
   "cell_type": "markdown",
   "metadata": {},
   "source": [
    "- 위의 방식으로 나머지 변수들도 계산 : ```\"marital\"```, ```\"education\"```, ```\"contact\"```"
   ]
  },
  {
   "cell_type": "code",
   "execution_count": 50,
   "metadata": {},
   "outputs": [],
   "source": [
    "# 정기예금 가입여부 상관없이 모든 데이터에 대한 pivot_table 생성\n",
    "bank_marital = pd.pivot_table(bank, index = 'marital', values = 'ID', aggfunc = 'count')\n",
    "bank_education = pd.pivot_table(bank, index = 'education', values = 'ID', aggfunc = 'count')\n",
    "bank_contact = pd.pivot_table(bank, index = 'contact', values = 'ID', aggfunc = 'count')\n",
    "\n",
    "# 정기에금 가입한 사람들 대상 pivot_table 생성\n",
    "bank_yes_marital = pd.pivot_table(bank_yes, index = 'marital', values = 'ID', aggfunc = 'count')\n",
    "bank_yes_education = pd.pivot_table(bank_yes, index = 'education', values = 'ID', aggfunc = 'count')\n",
    "bank_yes_contact = pd.pivot_table(bank_yes, index = 'contact', values = 'ID', aggfunc = 'count')\n",
    "\n",
    "# percentage 계산\n",
    "bank_yes_marital = pd.DataFrame(round(bank_yes_marital[\"ID\"] / bank_marital[\"ID\"]  * 100))\n",
    "bank_yes_marital.rename(columns = {\"ID\" : \"subscribed (%)\"}, inplace = True)\n",
    "\n",
    "bank_yes_education = pd.DataFrame(round(bank_yes_education[\"ID\"] / bank_education[\"ID\"]  * 100))\n",
    "bank_yes_education.rename(columns = {\"ID\" : \"subscribed (%)\"}, inplace = True)\n",
    "\n",
    "bank_yes_contact = pd.DataFrame(round(bank_yes_contact[\"ID\"] / bank_contact[\"ID\"]  * 100))\n",
    "bank_yes_contact.rename(columns = {\"ID\" : \"subscribed (%)\"}, inplace = True)"
   ]
  },
  {
   "cell_type": "code",
   "execution_count": 51,
   "metadata": {},
   "outputs": [
    {
     "data": {
      "text/html": [
       "<div>\n",
       "<style scoped>\n",
       "    .dataframe tbody tr th:only-of-type {\n",
       "        vertical-align: middle;\n",
       "    }\n",
       "\n",
       "    .dataframe tbody tr th {\n",
       "        vertical-align: top;\n",
       "    }\n",
       "\n",
       "    .dataframe thead th {\n",
       "        text-align: right;\n",
       "    }\n",
       "</style>\n",
       "<table border=\"1\" class=\"dataframe\">\n",
       "  <thead>\n",
       "    <tr style=\"text-align: right;\">\n",
       "      <th></th>\n",
       "      <th>subscribed (%)</th>\n",
       "    </tr>\n",
       "    <tr>\n",
       "      <th>marital</th>\n",
       "      <th></th>\n",
       "    </tr>\n",
       "  </thead>\n",
       "  <tbody>\n",
       "    <tr>\n",
       "      <th>divorced</th>\n",
       "      <td>12.0</td>\n",
       "    </tr>\n",
       "    <tr>\n",
       "      <th>married</th>\n",
       "      <td>10.0</td>\n",
       "    </tr>\n",
       "    <tr>\n",
       "      <th>single</th>\n",
       "      <td>15.0</td>\n",
       "    </tr>\n",
       "  </tbody>\n",
       "</table>\n",
       "</div>"
      ],
      "text/plain": [
       "          subscribed (%)\n",
       "marital                 \n",
       "divorced            12.0\n",
       "married             10.0\n",
       "single              15.0"
      ]
     },
     "execution_count": 51,
     "metadata": {},
     "output_type": "execute_result"
    }
   ],
   "source": [
    "# bank_marital\n",
    "bank_yes_marital"
   ]
  },
  {
   "cell_type": "code",
   "execution_count": 52,
   "metadata": {},
   "outputs": [
    {
     "data": {
      "text/html": [
       "<div>\n",
       "<style scoped>\n",
       "    .dataframe tbody tr th:only-of-type {\n",
       "        vertical-align: middle;\n",
       "    }\n",
       "\n",
       "    .dataframe tbody tr th {\n",
       "        vertical-align: top;\n",
       "    }\n",
       "\n",
       "    .dataframe thead th {\n",
       "        text-align: right;\n",
       "    }\n",
       "</style>\n",
       "<table border=\"1\" class=\"dataframe\">\n",
       "  <thead>\n",
       "    <tr style=\"text-align: right;\">\n",
       "      <th></th>\n",
       "      <th>subscribed (%)</th>\n",
       "    </tr>\n",
       "    <tr>\n",
       "      <th>education</th>\n",
       "      <th></th>\n",
       "    </tr>\n",
       "  </thead>\n",
       "  <tbody>\n",
       "    <tr>\n",
       "      <th>primary</th>\n",
       "      <td>9.0</td>\n",
       "    </tr>\n",
       "    <tr>\n",
       "      <th>secondary</th>\n",
       "      <td>10.0</td>\n",
       "    </tr>\n",
       "    <tr>\n",
       "      <th>tertiary</th>\n",
       "      <td>15.0</td>\n",
       "    </tr>\n",
       "    <tr>\n",
       "      <th>unknown</th>\n",
       "      <td>13.0</td>\n",
       "    </tr>\n",
       "  </tbody>\n",
       "</table>\n",
       "</div>"
      ],
      "text/plain": [
       "           subscribed (%)\n",
       "education                \n",
       "primary               9.0\n",
       "secondary            10.0\n",
       "tertiary             15.0\n",
       "unknown              13.0"
      ]
     },
     "execution_count": 52,
     "metadata": {},
     "output_type": "execute_result"
    }
   ],
   "source": [
    "# bank_education\n",
    "bank_yes_education"
   ]
  },
  {
   "cell_type": "code",
   "execution_count": 53,
   "metadata": {},
   "outputs": [
    {
     "data": {
      "text/html": [
       "<div>\n",
       "<style scoped>\n",
       "    .dataframe tbody tr th:only-of-type {\n",
       "        vertical-align: middle;\n",
       "    }\n",
       "\n",
       "    .dataframe tbody tr th {\n",
       "        vertical-align: top;\n",
       "    }\n",
       "\n",
       "    .dataframe thead th {\n",
       "        text-align: right;\n",
       "    }\n",
       "</style>\n",
       "<table border=\"1\" class=\"dataframe\">\n",
       "  <thead>\n",
       "    <tr style=\"text-align: right;\">\n",
       "      <th></th>\n",
       "      <th>subscribed (%)</th>\n",
       "    </tr>\n",
       "    <tr>\n",
       "      <th>contact</th>\n",
       "      <th></th>\n",
       "    </tr>\n",
       "  </thead>\n",
       "  <tbody>\n",
       "    <tr>\n",
       "      <th>cellular</th>\n",
       "      <td>15.0</td>\n",
       "    </tr>\n",
       "    <tr>\n",
       "      <th>telephone</th>\n",
       "      <td>13.0</td>\n",
       "    </tr>\n",
       "    <tr>\n",
       "      <th>unknown</th>\n",
       "      <td>4.0</td>\n",
       "    </tr>\n",
       "  </tbody>\n",
       "</table>\n",
       "</div>"
      ],
      "text/plain": [
       "           subscribed (%)\n",
       "contact                  \n",
       "cellular             15.0\n",
       "telephone            13.0\n",
       "unknown               4.0"
      ]
     },
     "execution_count": 53,
     "metadata": {},
     "output_type": "execute_result"
    }
   ],
   "source": [
    "bank_yes_contact"
   ]
  },
  {
   "cell_type": "markdown",
   "metadata": {},
   "source": [
    "#### 위의 변수들에 대한 해석\n",
    "**아래의 해석은 단순히 위의 표의 결과를 토대로 한 해석입니다. 선형회귀분석 등의 추가 검증은 추후 진행 예정이며, 추가 검증 결과 다르게 해석 될 수도 있습니다**\n",
    "- job : 학생과 은퇴한 고객들이 평균적으로 정기예금을 많이 가입하는 경향이 나타남.\n",
    "- marital : 결혼한 고객보다 싱글 혹은 이혼한 고객들이 평균적으로 정기예금을 많이 가입하는 경향이 나타남.\n",
    "- education : 초등, 중등, 고등학교 학력을 비교해볼 때 학력이 높은 고객일 수록 평균적으로 정기예금을 많이 가입하는 경향이 나타남.\n",
    "- contact : 고객의 핸드폰을 통해 접촉할 수록 고객들이 평균적으로 정기예금을 많이 가입하는 경향이 나타남."
   ]
  },
  {
   "cell_type": "markdown",
   "metadata": {
    "colab": {},
    "colab_type": "code",
    "id": "t1S0BywLRweW"
   },
   "source": [
    "## 3. 로지스틱 회귀분석"
   ]
  },
  {
   "cell_type": "code",
   "execution_count": 54,
   "metadata": {},
   "outputs": [
    {
     "data": {
      "text/html": [
       "<div>\n",
       "<style scoped>\n",
       "    .dataframe tbody tr th:only-of-type {\n",
       "        vertical-align: middle;\n",
       "    }\n",
       "\n",
       "    .dataframe tbody tr th {\n",
       "        vertical-align: top;\n",
       "    }\n",
       "\n",
       "    .dataframe thead th {\n",
       "        text-align: right;\n",
       "    }\n",
       "</style>\n",
       "<table border=\"1\" class=\"dataframe\">\n",
       "  <thead>\n",
       "    <tr style=\"text-align: right;\">\n",
       "      <th></th>\n",
       "      <th>balance</th>\n",
       "      <th>duration</th>\n",
       "      <th>campaign</th>\n",
       "      <th>pdays</th>\n",
       "      <th>previous</th>\n",
       "      <th>subscribed</th>\n",
       "    </tr>\n",
       "  </thead>\n",
       "  <tbody>\n",
       "    <tr>\n",
       "      <th>0</th>\n",
       "      <td>1933</td>\n",
       "      <td>44</td>\n",
       "      <td>2</td>\n",
       "      <td>-1</td>\n",
       "      <td>0</td>\n",
       "      <td>no</td>\n",
       "    </tr>\n",
       "    <tr>\n",
       "      <th>1</th>\n",
       "      <td>3</td>\n",
       "      <td>91</td>\n",
       "      <td>2</td>\n",
       "      <td>-1</td>\n",
       "      <td>0</td>\n",
       "      <td>no</td>\n",
       "    </tr>\n",
       "    <tr>\n",
       "      <th>2</th>\n",
       "      <td>891</td>\n",
       "      <td>240</td>\n",
       "      <td>1</td>\n",
       "      <td>-1</td>\n",
       "      <td>0</td>\n",
       "      <td>no</td>\n",
       "    </tr>\n",
       "    <tr>\n",
       "      <th>3</th>\n",
       "      <td>3287</td>\n",
       "      <td>867</td>\n",
       "      <td>1</td>\n",
       "      <td>84</td>\n",
       "      <td>3</td>\n",
       "      <td>yes</td>\n",
       "    </tr>\n",
       "    <tr>\n",
       "      <th>4</th>\n",
       "      <td>119</td>\n",
       "      <td>380</td>\n",
       "      <td>1</td>\n",
       "      <td>-1</td>\n",
       "      <td>0</td>\n",
       "      <td>no</td>\n",
       "    </tr>\n",
       "  </tbody>\n",
       "</table>\n",
       "</div>"
      ],
      "text/plain": [
       "   balance  duration  campaign  pdays  previous subscribed\n",
       "0     1933        44         2     -1         0         no\n",
       "1        3        91         2     -1         0         no\n",
       "2      891       240         1     -1         0         no\n",
       "3     3287       867         1     84         3        yes\n",
       "4      119       380         1     -1         0         no"
      ]
     },
     "execution_count": 54,
     "metadata": {},
     "output_type": "execute_result"
    }
   ],
   "source": [
    "# 의미없는 변수 제거 (범주형 변수도 우선 제거)\n",
    "bank2 = bank.dropna().drop(['ID', 'age', 'month', 'day', 'job', 'marital', 'education', 'default', 'housing', 'loan', 'contact', 'poutcome'], axis = 1, inplace = False)\n",
    "bank2.head()"
   ]
  },
  {
   "cell_type": "code",
   "execution_count": 55,
   "metadata": {
    "scrolled": true
   },
   "outputs": [
    {
     "data": {
      "text/html": [
       "<div>\n",
       "<style scoped>\n",
       "    .dataframe tbody tr th:only-of-type {\n",
       "        vertical-align: middle;\n",
       "    }\n",
       "\n",
       "    .dataframe tbody tr th {\n",
       "        vertical-align: top;\n",
       "    }\n",
       "\n",
       "    .dataframe thead th {\n",
       "        text-align: right;\n",
       "    }\n",
       "</style>\n",
       "<table border=\"1\" class=\"dataframe\">\n",
       "  <thead>\n",
       "    <tr style=\"text-align: right;\">\n",
       "      <th></th>\n",
       "      <th>const</th>\n",
       "      <th>balance</th>\n",
       "      <th>duration</th>\n",
       "      <th>campaign</th>\n",
       "      <th>pdays</th>\n",
       "      <th>previous</th>\n",
       "      <th>subscribed</th>\n",
       "    </tr>\n",
       "  </thead>\n",
       "  <tbody>\n",
       "    <tr>\n",
       "      <th>0</th>\n",
       "      <td>1.0</td>\n",
       "      <td>1933</td>\n",
       "      <td>44</td>\n",
       "      <td>2</td>\n",
       "      <td>-1</td>\n",
       "      <td>0</td>\n",
       "      <td>no</td>\n",
       "    </tr>\n",
       "    <tr>\n",
       "      <th>1</th>\n",
       "      <td>1.0</td>\n",
       "      <td>3</td>\n",
       "      <td>91</td>\n",
       "      <td>2</td>\n",
       "      <td>-1</td>\n",
       "      <td>0</td>\n",
       "      <td>no</td>\n",
       "    </tr>\n",
       "    <tr>\n",
       "      <th>2</th>\n",
       "      <td>1.0</td>\n",
       "      <td>891</td>\n",
       "      <td>240</td>\n",
       "      <td>1</td>\n",
       "      <td>-1</td>\n",
       "      <td>0</td>\n",
       "      <td>no</td>\n",
       "    </tr>\n",
       "    <tr>\n",
       "      <th>3</th>\n",
       "      <td>1.0</td>\n",
       "      <td>3287</td>\n",
       "      <td>867</td>\n",
       "      <td>1</td>\n",
       "      <td>84</td>\n",
       "      <td>3</td>\n",
       "      <td>yes</td>\n",
       "    </tr>\n",
       "    <tr>\n",
       "      <th>4</th>\n",
       "      <td>1.0</td>\n",
       "      <td>119</td>\n",
       "      <td>380</td>\n",
       "      <td>1</td>\n",
       "      <td>-1</td>\n",
       "      <td>0</td>\n",
       "      <td>no</td>\n",
       "    </tr>\n",
       "  </tbody>\n",
       "</table>\n",
       "</div>"
      ],
      "text/plain": [
       "   const  balance  duration  campaign  pdays  previous subscribed\n",
       "0    1.0     1933        44         2     -1         0         no\n",
       "1    1.0        3        91         2     -1         0         no\n",
       "2    1.0      891       240         1     -1         0         no\n",
       "3    1.0     3287       867         1     84         3        yes\n",
       "4    1.0      119       380         1     -1         0         no"
      ]
     },
     "execution_count": 55,
     "metadata": {},
     "output_type": "execute_result"
    }
   ],
   "source": [
    "# 상수항 추가\n",
    "bank2_c = sm.add_constant(bank2, has_constant = 'add')\n",
    "bank2_c.head()"
   ]
  },
  {
   "cell_type": "markdown",
   "metadata": {},
   "source": [
    "### 설명변수(X), 타켓변수(Y) 분리 및 학습데이터와 평가데이터"
   ]
  },
  {
   "cell_type": "code",
   "execution_count": 73,
   "metadata": {},
   "outputs": [],
   "source": [
    "feature_columns = list(bank2_c.columns.difference([\"subscribed\"]))\n",
    "X = bank2_c[feature_columns]\n",
    "y = bank2_c['subscribed'].replace({\"no\" : 0, \"yes\" : 1}) # 정기예금 가입여부 : 1 or 0"
   ]
  },
  {
   "cell_type": "code",
   "execution_count": 74,
   "metadata": {},
   "outputs": [
    {
     "data": {
      "text/plain": [
       "0        0\n",
       "1        0\n",
       "2        0\n",
       "3        1\n",
       "4        0\n",
       "        ..\n",
       "31642    0\n",
       "31643    1\n",
       "31644    0\n",
       "31645    0\n",
       "31646    1\n",
       "Name: subscribed, Length: 31647, dtype: int64"
      ]
     },
     "execution_count": 74,
     "metadata": {},
     "output_type": "execute_result"
    }
   ],
   "source": [
    "y"
   ]
  },
  {
   "cell_type": "code",
   "execution_count": 75,
   "metadata": {},
   "outputs": [
    {
     "name": "stdout",
     "output_type": "stream",
     "text": [
      "(22152, 6) (9495, 6) (22152,) (9495,)\n"
     ]
    }
   ],
   "source": [
    "train_x, test_x, train_y, test_y = train_test_split(X, y,\n",
    "                                                    stratify = y,\n",
    "                                                    train_size = 0.7, test_size = 0.3,\n",
    "                                                    random_state = 42)\n",
    "\n",
    "print(train_x.shape, test_x.shape, train_y.shape, test_y.shape)"
   ]
  },
  {
   "cell_type": "markdown",
   "metadata": {},
   "source": [
    "### 로지스틱회귀모형 모델링 y = f(x)"
   ]
  },
  {
   "cell_type": "code",
   "execution_count": 76,
   "metadata": {},
   "outputs": [
    {
     "name": "stdout",
     "output_type": "stream",
     "text": [
      "Optimization terminated successfully.\n",
      "         Current function value: 0.296407\n",
      "         Iterations 7\n"
     ]
    }
   ],
   "source": [
    "## 로지스틱회귀모형 적합\n",
    "model = sm.Logit(train_y, train_x)\n",
    "results = model.fit(method = 'newton')"
   ]
  },
  {
   "cell_type": "code",
   "execution_count": 77,
   "metadata": {},
   "outputs": [
    {
     "data": {
      "text/html": [
       "<table class=\"simpletable\">\n",
       "<caption>Logit Regression Results</caption>\n",
       "<tr>\n",
       "  <th>Dep. Variable:</th>      <td>subscribed</td>    <th>  No. Observations:  </th>  <td> 22152</td> \n",
       "</tr>\n",
       "<tr>\n",
       "  <th>Model:</th>                 <td>Logit</td>      <th>  Df Residuals:      </th>  <td> 22146</td> \n",
       "</tr>\n",
       "<tr>\n",
       "  <th>Method:</th>                 <td>MLE</td>       <th>  Df Model:          </th>  <td>     5</td> \n",
       "</tr>\n",
       "<tr>\n",
       "  <th>Date:</th>            <td>Sat, 10 Oct 2020</td> <th>  Pseudo R-squ.:     </th>  <td>0.1804</td> \n",
       "</tr>\n",
       "<tr>\n",
       "  <th>Time:</th>                <td>14:15:31</td>     <th>  Log-Likelihood:    </th> <td> -6566.0</td>\n",
       "</tr>\n",
       "<tr>\n",
       "  <th>converged:</th>             <td>True</td>       <th>  LL-Null:           </th> <td> -8011.4</td>\n",
       "</tr>\n",
       "<tr>\n",
       "  <th>Covariance Type:</th>     <td>nonrobust</td>    <th>  LLR p-value:       </th>  <td> 0.000</td> \n",
       "</tr>\n",
       "</table>\n",
       "<table class=\"simpletable\">\n",
       "<tr>\n",
       "      <td></td>        <th>coef</th>     <th>std err</th>      <th>z</th>      <th>P>|z|</th>  <th>[0.025</th>    <th>0.975]</th>  \n",
       "</tr>\n",
       "<tr>\n",
       "  <th>balance</th>  <td> 3.574e-05</td> <td> 6.33e-06</td> <td>    5.645</td> <td> 0.000</td> <td> 2.33e-05</td> <td> 4.81e-05</td>\n",
       "</tr>\n",
       "<tr>\n",
       "  <th>campaign</th> <td>   -0.1193</td> <td>    0.013</td> <td>   -9.013</td> <td> 0.000</td> <td>   -0.145</td> <td>   -0.093</td>\n",
       "</tr>\n",
       "<tr>\n",
       "  <th>const</th>    <td>   -3.1606</td> <td>    0.051</td> <td>  -62.343</td> <td> 0.000</td> <td>   -3.260</td> <td>   -3.061</td>\n",
       "</tr>\n",
       "<tr>\n",
       "  <th>duration</th> <td>    0.0036</td> <td> 7.99e-05</td> <td>   44.459</td> <td> 0.000</td> <td>    0.003</td> <td>    0.004</td>\n",
       "</tr>\n",
       "<tr>\n",
       "  <th>pdays</th>    <td>    0.0021</td> <td>    0.000</td> <td>    9.292</td> <td> 0.000</td> <td>    0.002</td> <td>    0.002</td>\n",
       "</tr>\n",
       "<tr>\n",
       "  <th>previous</th> <td>    0.1160</td> <td>    0.011</td> <td>   10.624</td> <td> 0.000</td> <td>    0.095</td> <td>    0.137</td>\n",
       "</tr>\n",
       "</table>"
      ],
      "text/plain": [
       "<class 'statsmodels.iolib.summary.Summary'>\n",
       "\"\"\"\n",
       "                           Logit Regression Results                           \n",
       "==============================================================================\n",
       "Dep. Variable:             subscribed   No. Observations:                22152\n",
       "Model:                          Logit   Df Residuals:                    22146\n",
       "Method:                           MLE   Df Model:                            5\n",
       "Date:                Sat, 10 Oct 2020   Pseudo R-squ.:                  0.1804\n",
       "Time:                        14:15:31   Log-Likelihood:                -6566.0\n",
       "converged:                       True   LL-Null:                       -8011.4\n",
       "Covariance Type:            nonrobust   LLR p-value:                     0.000\n",
       "==============================================================================\n",
       "                 coef    std err          z      P>|z|      [0.025      0.975]\n",
       "------------------------------------------------------------------------------\n",
       "balance     3.574e-05   6.33e-06      5.645      0.000    2.33e-05    4.81e-05\n",
       "campaign      -0.1193      0.013     -9.013      0.000      -0.145      -0.093\n",
       "const         -3.1606      0.051    -62.343      0.000      -3.260      -3.061\n",
       "duration       0.0036   7.99e-05     44.459      0.000       0.003       0.004\n",
       "pdays          0.0021      0.000      9.292      0.000       0.002       0.002\n",
       "previous       0.1160      0.011     10.624      0.000       0.095       0.137\n",
       "==============================================================================\n",
       "\"\"\""
      ]
     },
     "execution_count": 77,
     "metadata": {},
     "output_type": "execute_result"
    }
   ],
   "source": [
    "results.summary()"
   ]
  },
  {
   "cell_type": "code",
   "execution_count": 79,
   "metadata": {},
   "outputs": [
    {
     "data": {
      "text/plain": [
       "balance     1.000036\n",
       "campaign    0.887556\n",
       "const       0.042399\n",
       "duration    1.003559\n",
       "pdays       1.002052\n",
       "previous    1.123013\n",
       "dtype: float64"
      ]
     },
     "execution_count": 79,
     "metadata": {},
     "output_type": "execute_result"
    }
   ],
   "source": [
    "# parameter 만 보기\n",
    "np.exp(results.params)"
   ]
  },
  {
   "cell_type": "markdown",
   "metadata": {},
   "source": [
    "### 해석\n",
    "- balance : 계좌 잔액이 1 유로씩 많은 수록 정기예금 가입할 확률이 1.000036배 높다.\n",
    "- campaign : 기간동안 고객과의 접촉 횟수가 1단위 씩 증가할 수록 정기예금 가입할 확률이 0.887556배 높다.\n",
    "- duration : 직전 고객과의 접촉 시 접촉 시간이 1초씩 증가할 수록 정기예금 가입할 확률이 1.003559배 높다\n",
    "- pdays : 직전 고객과의 접촉일로부터 경과일이 하루씩 증가할 수록 정기예금 가입할 확률이 1.002053배 높다\n",
    "- previous : 이번 캠페인 전에 고객과의 접촉 횟수가 1회씩 증가할 수록 정기예금 가입할 확률이 1.123013배 높다"
   ]
  },
  {
   "cell_type": "code",
   "execution_count": 82,
   "metadata": {},
   "outputs": [
    {
     "data": {
      "text/plain": [
       "12876    0.216649\n",
       "15699    0.034869\n",
       "490      0.046102\n",
       "23687    0.100124\n",
       "6782     0.152575\n",
       "dtype: float64"
      ]
     },
     "execution_count": 82,
     "metadata": {},
     "output_type": "execute_result"
    }
   ],
   "source": [
    "## y_hat 예측\n",
    "\n",
    "pred_y = results.predict(test_x)\n",
    "pred_y.head()"
   ]
  },
  {
   "cell_type": "markdown",
   "metadata": {},
   "source": [
    "- 위의 예측값은 평균값이므로 threshold를 지정해줄 필요가 있다."
   ]
  },
  {
   "cell_type": "code",
   "execution_count": 83,
   "metadata": {},
   "outputs": [
    {
     "data": {
      "text/plain": [
       "12876    0\n",
       "15699    0\n",
       "490      0\n",
       "23687    0\n",
       "6782     0\n",
       "dtype: int32"
      ]
     },
     "execution_count": 83,
     "metadata": {},
     "output_type": "execute_result"
    }
   ],
   "source": [
    "def cut_off(y, threshold):\n",
    "    Y = y.copy() # copy함수를 사용하여 이전의 y값이 변화지 않게 함\n",
    "    Y[Y >  threshold] = 1\n",
    "    Y[Y <= threshold] = 0\n",
    "    return(Y.astype(int))\n",
    "\n",
    "pred_Y = cut_off(pred_y,0.5)\n",
    "pred_Y.head()"
   ]
  },
  {
   "cell_type": "code",
   "execution_count": null,
   "metadata": {},
   "outputs": [],
   "source": []
  },
  {
   "cell_type": "code",
   "execution_count": null,
   "metadata": {},
   "outputs": [],
   "source": []
  },
  {
   "cell_type": "code",
   "execution_count": null,
   "metadata": {},
   "outputs": [],
   "source": []
  },
  {
   "cell_type": "code",
   "execution_count": null,
   "metadata": {},
   "outputs": [],
   "source": []
  },
  {
   "cell_type": "code",
   "execution_count": null,
   "metadata": {},
   "outputs": [],
   "source": []
  },
  {
   "cell_type": "code",
   "execution_count": null,
   "metadata": {},
   "outputs": [],
   "source": []
  },
  {
   "cell_type": "code",
   "execution_count": null,
   "metadata": {},
   "outputs": [],
   "source": []
  },
  {
   "cell_type": "code",
   "execution_count": null,
   "metadata": {},
   "outputs": [],
   "source": []
  },
  {
   "cell_type": "code",
   "execution_count": null,
   "metadata": {},
   "outputs": [],
   "source": [
    "- 우선 범주형 변수를 이진형 변수로 변환 - 보류"
   ]
  },
  {
   "cell_type": "code",
   "execution_count": null,
   "metadata": {},
   "outputs": [],
   "source": [
    "# # 각 범주형 변수의 unique 값 확인\n",
    "# print(bank2_c[\"job\"].unique())\n",
    "# print(bank2_c[\"marital\"].unique())\n",
    "# print(bank2_c[\"education\"].unique())\n",
    "# print(bank2_c[\"contact\"].unique())\n",
    "# print(bank2_c[\"poutcome\"].unique())"
   ]
  },
  {
   "cell_type": "code",
   "execution_count": null,
   "metadata": {},
   "outputs": [],
   "source": [
    "# # 가변수 생성 : 'marital'\n",
    "# dummy_married = np.repeat(0, nData)\n",
    "# dummy_divorced = np.repeat(0, nData)\n",
    "# dummy_single = np.repeat(0, nData)\n",
    "\n",
    "# # 가변수 생성 : 'education'\n",
    "# dummy_unknown_e = np.repeat(0, nData)\n",
    "# dummy_secondary = np.repeat(0, nData)\n",
    "# dummy_tertiary = np.repeat(0, nData)\n",
    "# dummy_primary = np.repeat(0, nData)\n",
    "\n",
    "# # 가변수 생성 : 'contact'\n",
    "# dummy_telephone = np.repeat(0, nData)\n",
    "# dummy_cellular = np.repeat(0, nData)\n",
    "# dummy_unknown_c = np.repeat(0, nData)\n",
    "\n",
    "# # 가변수 생성 : 'poutcome'\n",
    "# dummy_unknown_p = np.repeat(0, nData)\n",
    "# dummy_success = np.repeat(0, nData)\n",
    "# dummy_failure = np.repeat(0, nData)\n",
    "# dummy_other = np.repeat(0, nData)"
   ]
  }
 ],
 "metadata": {
  "colab": {
   "name": "01_02-kmong(assignment).ipynb",
   "provenance": [],
   "version": "0.3.2"
  },
  "kernelspec": {
   "display_name": "Python 3",
   "language": "python",
   "name": "python3"
  },
  "language_info": {
   "codemirror_mode": {
    "name": "ipython",
    "version": 3
   },
   "file_extension": ".py",
   "mimetype": "text/x-python",
   "name": "python",
   "nbconvert_exporter": "python",
   "pygments_lexer": "ipython3",
   "version": "3.7.6"
  }
 },
 "nbformat": 4,
 "nbformat_minor": 1
}
